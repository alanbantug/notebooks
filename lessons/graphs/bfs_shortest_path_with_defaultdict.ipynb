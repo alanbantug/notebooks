{
 "cells": [
  {
   "cell_type": "markdown",
   "metadata": {},
   "source": [
    "## BFS Shortest Path\n",
    "\n",
    "**NOTE:** The other code has the adjacent nodes in a set. The code below is for a graph that implements a list instead of a set.\n"
   ]
  },
  {
   "cell_type": "code",
   "execution_count": 1,
   "metadata": {},
   "outputs": [],
   "source": [
    "from collections import defaultdict"
   ]
  },
  {
   "cell_type": "code",
   "execution_count": 2,
   "metadata": {},
   "outputs": [],
   "source": [
    "class Graph():\n",
    "    \n",
    "    def __init__(self):\n",
    "        self.graph = defaultdict(list)\n",
    "        \n",
    "    def addEdge(self, u, v):\n",
    "        self.graph[u].append(v)\n",
    "        \n",
    "    def shortestPath(self, orig, dest):\n",
    "        \n",
    "        queue = [(orig, [orig])]\n",
    "        \n",
    "        while queue:\n",
    "            \n",
    "            (vertex, path) = queue.pop(0)\n",
    "            \n",
    "            for n in self.graph[vertex]:\n",
    "                if n == dest:\n",
    "                    yield path + [n]\n",
    "                else:\n",
    "                    queue.append((n, path + [n]))\n",
    "        \n",
    "    def __len__(self):\n",
    "        return len(self.graph)\n",
    "    \n",
    "    "
   ]
  },
  {
   "cell_type": "code",
   "execution_count": 3,
   "metadata": {},
   "outputs": [],
   "source": [
    "g = Graph()\n",
    "\n",
    "g.addEdge(0, 1)\n",
    "g.addEdge(0, 2)\n",
    "g.addEdge(0, 6)\n",
    "g.addEdge(1, 3)\n",
    "g.addEdge(1, 4)\n",
    "g.addEdge(2, 5)\n",
    "g.addEdge(3, 5)\n",
    "g.addEdge(3, 8)\n",
    "g.addEdge(4, 7)\n",
    "g.addEdge(5, 8)\n",
    "g.addEdge(6, 9)\n",
    "g.addEdge(7, 8)\n",
    "g.addEdge(8, 10)\n",
    "g.addEdge(9, 10)\n",
    "g.addEdge(10, 1)"
   ]
  },
  {
   "cell_type": "code",
   "execution_count": 4,
   "metadata": {},
   "outputs": [
    {
     "data": {
      "text/plain": [
       "11"
      ]
     },
     "execution_count": 4,
     "metadata": {},
     "output_type": "execute_result"
    }
   ],
   "source": [
    "len(g)"
   ]
  },
  {
   "cell_type": "code",
   "execution_count": 5,
   "metadata": {},
   "outputs": [
    {
     "data": {
      "text/plain": [
       "[[0, 6, 9, 10],\n",
       " [0, 1, 3, 8, 10],\n",
       " [0, 2, 5, 8, 10],\n",
       " [0, 1, 3, 5, 8, 10],\n",
       " [0, 1, 4, 7, 8, 10]]"
      ]
     },
     "execution_count": 5,
     "metadata": {},
     "output_type": "execute_result"
    }
   ],
   "source": [
    "list(g.shortestPath(0,10))"
   ]
  },
  {
   "cell_type": "markdown",
   "metadata": {},
   "source": [
    "Expect result\n",
    "\n",
    "    [0, 6, 9, 10]"
   ]
  },
  {
   "cell_type": "code",
   "execution_count": null,
   "metadata": {},
   "outputs": [],
   "source": []
  }
 ],
 "metadata": {
  "kernelspec": {
   "display_name": "Python 3",
   "language": "python",
   "name": "python3"
  },
  "language_info": {
   "codemirror_mode": {
    "name": "ipython",
    "version": 3
   },
   "file_extension": ".py",
   "mimetype": "text/x-python",
   "name": "python",
   "nbconvert_exporter": "python",
   "pygments_lexer": "ipython3",
   "version": "3.7.3"
  }
 },
 "nbformat": 4,
 "nbformat_minor": 2
}
