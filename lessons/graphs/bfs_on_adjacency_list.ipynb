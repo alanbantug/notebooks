{
 "cells": [
  {
   "cell_type": "markdown",
   "metadata": {},
   "source": [
    "## BFS on Adjacency List"
   ]
  },
  {
   "cell_type": "code",
   "execution_count": 2,
   "metadata": {},
   "outputs": [],
   "source": [
    "from collections import defaultdict"
   ]
  },
  {
   "cell_type": "code",
   "execution_count": 3,
   "metadata": {},
   "outputs": [],
   "source": [
    "class Graph():\n",
    "    \n",
    "    def __init__(self):\n",
    "        self.graph = defaultdict(list)\n",
    "        \n",
    "    def addEdge(self, u, v):\n",
    "        self.graph[u].append(v)\n",
    "        \n",
    "    def BFS(self, start):\n",
    "        \n",
    "        visited = [False] * len(self.graph)\n",
    "        \n",
    "        queue = [start]\n",
    "        \n",
    "        visited[start] = True\n",
    "        \n",
    "        while queue:\n",
    "            \n",
    "            s = queue.pop(0)\n",
    "            print(s, end=' ')\n",
    "            \n",
    "            for i in self.graph[s]:\n",
    "                \n",
    "                if visited[i] == False:\n",
    "                    visited[i] = True\n",
    "                    queue.append(i)\n",
    "            "
   ]
  },
  {
   "cell_type": "code",
   "execution_count": 4,
   "metadata": {},
   "outputs": [],
   "source": [
    "g = Graph()"
   ]
  },
  {
   "cell_type": "code",
   "execution_count": 5,
   "metadata": {},
   "outputs": [],
   "source": [
    "g.addEdge(0, 1)\n",
    "g.addEdge(0, 2)\n",
    "g.addEdge(1, 2)\n",
    "g.addEdge(2, 0)\n",
    "g.addEdge(2, 3)\n",
    "g.addEdge(3, 3)"
   ]
  },
  {
   "cell_type": "code",
   "execution_count": 6,
   "metadata": {},
   "outputs": [
    {
     "name": "stdout",
     "output_type": "stream",
     "text": [
      "2 0 3 1 "
     ]
    }
   ],
   "source": [
    "g.BFS(2)"
   ]
  },
  {
   "cell_type": "markdown",
   "metadata": {},
   "source": [
    "Expected Result:   \n",
    "\n",
    "    2 0 3 1"
   ]
  },
  {
   "cell_type": "code",
   "execution_count": null,
   "metadata": {},
   "outputs": [],
   "source": []
  }
 ],
 "metadata": {
  "kernelspec": {
   "display_name": "Python 3",
   "language": "python",
   "name": "python3"
  },
  "language_info": {
   "codemirror_mode": {
    "name": "ipython",
    "version": 3
   },
   "file_extension": ".py",
   "mimetype": "text/x-python",
   "name": "python",
   "nbconvert_exporter": "python",
   "pygments_lexer": "ipython3",
   "version": "3.7.3"
  }
 },
 "nbformat": 4,
 "nbformat_minor": 2
}
