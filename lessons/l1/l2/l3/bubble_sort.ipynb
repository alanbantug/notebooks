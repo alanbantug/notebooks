{
 "cells": [
  {
   "cell_type": "markdown",
   "metadata": {},
   "source": [
    "### Implementation of a Bubble Sort\n",
    "\n",
    "The bubble sort makes multiple passes through a list. It compares adjacent items and exchanges those that are out of order. Each pass through the list places the next largest value in its proper place. In essence, each item “bubbles” up to the location where it belongs.\n",
    "\n",
    "Note the top iteration which goes thru all elements first, and then one less element in succeeding iterations. The reason for this is that after the first iteration, the highest number in the array goes to the last element.\n"
   ]
  },
  {
   "cell_type": "code",
   "execution_count": 13,
   "metadata": {},
   "outputs": [],
   "source": [
    "def bubble_sort(arr):\n",
    "    \n",
    "    # For every element (arranged backwards)\n",
    "    for n in range(len(arr)-1, 0, -1):\n",
    "        #\n",
    "        for k in range(n):\n",
    "            # If we come to a point to switch\n",
    "            if arr[k] > arr[k+1]:\n",
    "\n",
    "                temp = arr[k]\n",
    "                arr[k] = arr[k+1]\n",
    "                arr[k+1] = temp\n",
    "                "
   ]
  },
  {
   "cell_type": "code",
   "execution_count": 14,
   "metadata": {},
   "outputs": [
    {
     "name": "stdout",
     "output_type": "stream",
     "text": [
      "[2, 3, 4, 6, 5, 7, 8, 1, 13, 20]\n",
      "[2, 3, 4, 5, 6, 7, 1, 8, 13, 20]\n",
      "[2, 3, 4, 5, 6, 1, 7, 8, 13, 20]\n",
      "[2, 3, 4, 5, 1, 6, 7, 8, 13, 20]\n",
      "[2, 3, 4, 1, 5, 6, 7, 8, 13, 20]\n",
      "[2, 3, 1, 4, 5, 6, 7, 8, 13, 20]\n",
      "[2, 1, 3, 4, 5, 6, 7, 8, 13, 20]\n",
      "[1, 2, 3, 4, 5, 6, 7, 8, 13, 20]\n",
      "[1, 2, 3, 4, 5, 6, 7, 8, 13, 20]\n"
     ]
    }
   ],
   "source": [
    "arr = [3,2,13,4,6,5,7,8,1,20]\n",
    "bubble_sort(arr)"
   ]
  },
  {
   "cell_type": "code",
   "execution_count": 12,
   "metadata": {},
   "outputs": [
    {
     "data": {
      "text/plain": [
       "[1, 2, 3, 4, 5, 6, 7, 8, 13, 20]"
      ]
     },
     "execution_count": 12,
     "metadata": {},
     "output_type": "execute_result"
    }
   ],
   "source": [
    "arr"
   ]
  },
  {
   "cell_type": "code",
   "execution_count": null,
   "metadata": {},
   "outputs": [],
   "source": []
  }
 ],
 "metadata": {
  "kernelspec": {
   "display_name": "Python 3",
   "language": "python",
   "name": "python3"
  },
  "language_info": {
   "codemirror_mode": {
    "name": "ipython",
    "version": 3
   },
   "file_extension": ".py",
   "mimetype": "text/x-python",
   "name": "python",
   "nbconvert_exporter": "python",
   "pygments_lexer": "ipython3",
   "version": "3.7.3"
  }
 },
 "nbformat": 4,
 "nbformat_minor": 2
}
