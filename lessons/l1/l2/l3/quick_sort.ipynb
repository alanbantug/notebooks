{
 "cells": [
  {
   "cell_type": "markdown",
   "metadata": {},
   "source": [
    "## Quick Sort\n",
    "\n",
    "Like Merge Sort, QuickSort is a Divide and Conquer algorithm. It picks an element as pivot and partitions the given array around the picked pivot. There are many different versions of quickSort that pick pivot in different ways.\n",
    "\n",
    "The key process in quickSort is partition(). Target of partitions is, given an array and an element x of array as pivot, put x at its correct position in sorted array and put all smaller elements (smaller than x) before x, and put all greater elements (greater than x) after x. All this should be done in linear time.\n",
    "\n",
    "The code below implements pivot on the last element.\n",
    "\n",
    "### NOTE\n",
    "\n",
    "This is how it works:\n",
    "\n",
    "- Set the pivot to be the last element in the list.\n",
    "- Move all elements smaller than the pivot to the start of the list.\n",
    "  - The first smaller element will switch places with the first element in the list\n",
    "  - The second smaller element with the second element in the list, and so on. \n",
    "  - So there must be some counter that keeps track of that.\n",
    "  - The pivot is then moved to the right of all the elements that are lower than it.\n",
    "  - This part is called patitioning, and may be a separate funtion.\n",
    "\n",
    "- Use the position of the pivot to divide the list, and call the function recursively. \n",
    "\n",
    "\n"
   ]
  },
  {
   "cell_type": "code",
   "execution_count": 1,
   "metadata": {},
   "outputs": [],
   "source": [
    "def partition(arr, low, high): \n",
    "    \n",
    "    i = low - 1           # index of smaller element \n",
    "    pivot = arr[high]     # pivot \n",
    "\n",
    "    for j in range(low , high): \n",
    "  \n",
    "        # If current element is smaller than the pivot \n",
    "        if   arr[j] < pivot: \n",
    "          \n",
    "            # increment index of smaller element \n",
    "            i = i + 1 \n",
    "            arr[i], arr[j] = arr[j], arr[i]\n",
    "  \n",
    "    arr[i + 1], arr[high] = arr[high], arr[i + 1] \n",
    "    print(arr)\n",
    "    return ( i+1 ) \n",
    "  \n",
    "# The main function that implements QuickSort \n",
    "# arr[] --> Array to be sorted, \n",
    "# low  --> Starting index, \n",
    "# high  --> Ending index \n",
    "  \n",
    "# Function to do Quick sort \n",
    "def quickSort(arr, low, high): \n",
    "\n",
    "    if low < high: \n",
    "  \n",
    "        # pi is partitioning index, arr[p] is now \n",
    "        # at right place \n",
    "        pi = partition(arr, low, high) \n",
    "\n",
    "        # Separately sort elements before \n",
    "        # partition and after partition \n",
    "        quickSort(arr, low, pi-1) \n",
    "        quickSort(arr, pi+1, high) \n",
    "        "
   ]
  },
  {
   "cell_type": "code",
   "execution_count": 2,
   "metadata": {},
   "outputs": [
    {
     "name": "stdout",
     "output_type": "stream",
     "text": [
      "[1, 4, 2, 5, 10, 7, 8, 9]\n",
      "[1, 2, 4, 5, 10, 7, 8, 9]\n",
      "[1, 2, 4, 5, 7, 8, 9, 10]\n",
      "[1, 2, 4, 5, 7, 8, 9, 10]\n"
     ]
    }
   ],
   "source": [
    "# Driver code to test above \n",
    "arr = [10, 7, 8, 9, 1, 4, 2, 5] \n",
    "\n",
    "n = len(arr) \n",
    "\n",
    "quickSort(arr, 0, n-1) \n"
   ]
  },
  {
   "cell_type": "code",
   "execution_count": 3,
   "metadata": {},
   "outputs": [
    {
     "name": "stdout",
     "output_type": "stream",
     "text": [
      "Sorted array is:\n",
      "1\n",
      "2\n",
      "4\n",
      "5\n",
      "7\n",
      "8\n",
      "9\n",
      "10\n"
     ]
    }
   ],
   "source": [
    "print (\"Sorted array is:\") \n",
    "for i in range(n): \n",
    "    print (\"%d\" %arr[i]), "
   ]
  },
  {
   "cell_type": "code",
   "execution_count": null,
   "metadata": {},
   "outputs": [],
   "source": []
  }
 ],
 "metadata": {
  "kernelspec": {
   "display_name": "Python 3",
   "language": "python",
   "name": "python3"
  },
  "language_info": {
   "codemirror_mode": {
    "name": "ipython",
    "version": 3
   },
   "file_extension": ".py",
   "mimetype": "text/x-python",
   "name": "python",
   "nbconvert_exporter": "python",
   "pygments_lexer": "ipython3",
   "version": "3.7.3"
  }
 },
 "nbformat": 4,
 "nbformat_minor": 2
}
