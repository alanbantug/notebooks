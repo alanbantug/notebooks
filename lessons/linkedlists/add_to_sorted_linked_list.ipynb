{
 "cells": [
  {
   "cell_type": "markdown",
   "metadata": {},
   "source": [
    "## Add to Linked List in Sorted Order\n",
    "\n",
    "Adding to Linked list was usually straight forward in prior code. The Node objects are created first, and then the next nodes for each node are manually assigned. But adding them such that they are sorted will require additional code.\n",
    "\n",
    "Things to do:\n",
    "\n",
    "1. Create classes for node and linked list\n",
    "2. Create a function to add nodes to the front and to the back of the list.  \n",
    "3. Create a function to add node while looking at the values to make sure they are sorted.     \n",
    "   - Code is similar to adding at the front of the list         \n",
    "4. Create a function to print the data in the Linked List for comparison\n",
    "\n",
    "For testing purposes, use the other methods to add the Node into the LinkedList. Add the nodes in the same order and see that the print outs are different.\n"
   ]
  },
  {
   "cell_type": "code",
   "execution_count": 1,
   "metadata": {},
   "outputs": [],
   "source": [
    "class Node():\n",
    "    \n",
    "    def __init__(self, value):\n",
    "        self.value = value\n",
    "        self.next = None\n",
    "        "
   ]
  },
  {
   "cell_type": "code",
   "execution_count": 10,
   "metadata": {},
   "outputs": [],
   "source": [
    "class LinkedList():\n",
    "    \n",
    "    # Function to initialize head \n",
    "    def __init__(self): \n",
    "        self.head = None\n",
    "\n",
    "    # Function to insert a new node at the back\n",
    "    def add(self, value): \n",
    "        \n",
    "        new_node = Node(value)\n",
    "        \n",
    "        if self.head:\n",
    "            curr = self.head \n",
    "            \n",
    "            while curr.next:\n",
    "                curr = curr.next\n",
    "                \n",
    "            curr.next = new_node\n",
    "        else:\n",
    "            self.head = new_node\n",
    "\n",
    "    # Function to insert a new node at the beginning \n",
    "    def push(self, value): \n",
    "        new_node = Node(value) \n",
    "        new_node.next = self.head \n",
    "        self.head = new_node \n",
    "\n",
    "    def sortedInsert(self, value): \n",
    "        \n",
    "        new_node = Node(value)\n",
    "        \n",
    "        # Special case for the empty linked list  \n",
    "        if self.head is None: \n",
    "            new_node.next = self.head \n",
    "            self.head = new_node \n",
    "  \n",
    "        # Special case for head at end \n",
    "        elif self.head.value >= new_node.value: \n",
    "            new_node.next = self.head \n",
    "            self.head = new_node \n",
    "  \n",
    "        else : \n",
    "  \n",
    "            # Locate the node before the point of insertion \n",
    "            curr = self.head \n",
    "            while(curr.next and curr.next.value < new_node.value): \n",
    "                curr = curr.next\n",
    "              \n",
    "            new_node.next = curr.next\n",
    "            curr.next = new_node \n",
    "  \n",
    "    # Utility function to print it the linked LinkedList \n",
    "    def printList(self): \n",
    "        \n",
    "        curr = self.head \n",
    "        while curr: \n",
    "            print(curr.value, end=' ')\n",
    "            curr = curr.next\n",
    "            \n",
    "            "
   ]
  },
  {
   "cell_type": "code",
   "execution_count": 11,
   "metadata": {},
   "outputs": [
    {
     "name": "stdout",
     "output_type": "stream",
     "text": [
      "15 12 30 20 10 5 "
     ]
    }
   ],
   "source": [
    "ll1 = LinkedList()\n",
    "\n",
    "ll1.push(5)\n",
    "ll1.push(10)\n",
    "ll1.push(20)\n",
    "ll1.push(30)\n",
    "ll1.push(12)\n",
    "ll1.push(15)\n",
    "\n",
    "ll1.printList()"
   ]
  },
  {
   "cell_type": "code",
   "execution_count": 12,
   "metadata": {},
   "outputs": [
    {
     "name": "stdout",
     "output_type": "stream",
     "text": [
      "5 10 20 30 12 15 "
     ]
    }
   ],
   "source": [
    "ll2 = LinkedList()\n",
    "\n",
    "ll2.add(5)\n",
    "ll2.add(10)\n",
    "ll2.add(20)\n",
    "ll2.add(30)\n",
    "ll2.add(12)\n",
    "ll2.add(15)\n",
    "\n",
    "ll2.printList()"
   ]
  },
  {
   "cell_type": "code",
   "execution_count": 13,
   "metadata": {},
   "outputs": [
    {
     "name": "stdout",
     "output_type": "stream",
     "text": [
      "5 10 12 15 20 30 "
     ]
    }
   ],
   "source": [
    "ll3 = LinkedList()\n",
    "\n",
    "ll3.sortedInsert(5)\n",
    "ll3.sortedInsert(10)\n",
    "ll3.sortedInsert(20)\n",
    "ll3.sortedInsert(30)\n",
    "ll3.sortedInsert(12)\n",
    "ll3.sortedInsert(15)\n",
    "\n",
    "ll3.printList()"
   ]
  },
  {
   "cell_type": "code",
   "execution_count": null,
   "metadata": {},
   "outputs": [],
   "source": []
  }
 ],
 "metadata": {
  "kernelspec": {
   "display_name": "Python 3",
   "language": "python",
   "name": "python3"
  },
  "language_info": {
   "codemirror_mode": {
    "name": "ipython",
    "version": 3
   },
   "file_extension": ".py",
   "mimetype": "text/x-python",
   "name": "python",
   "nbconvert_exporter": "python",
   "pygments_lexer": "ipython3",
   "version": "3.7.3"
  }
 },
 "nbformat": 4,
 "nbformat_minor": 2
}
