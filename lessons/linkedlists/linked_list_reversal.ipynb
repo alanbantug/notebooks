{
 "cells": [
  {
   "cell_type": "markdown",
   "metadata": {},
   "source": [
    "## Linked List Reversal\n",
    "\n",
    "### Problem\n",
    "\n",
    "Write a function to reverse a Linked List in place. The function will take in the head of the list as input and return the new head of the list.\n",
    "\n",
    "### Solution\n",
    "\n",
    "Since we want to do this in place we want to make the funciton operate in O(1) space, meaning we don't want to create a new list, so we will simply use the current nodes! Time wise, we can perform the reversal in O(n) time.\n",
    "\n",
    "We can reverse the list by changing the next pointer of each node. Each node's next pointer should point to the previous node.\n",
    "\n",
    "In one pass from head to tail of our input list, we will point each node's next pointer to the previous element.\n",
    "\n",
    "Make sure to copy current.next_node into next_node before setting current.next_node to previous. \n",
    "\n",
    "Let's see this solution coded out:\n",
    "\n"
   ]
  },
  {
   "cell_type": "code",
   "execution_count": 12,
   "metadata": {},
   "outputs": [],
   "source": [
    "class Node(object):\n",
    "    \n",
    "    def __init__(self,value):\n",
    "        \n",
    "        self.value = value\n",
    "        self.next = None\n",
    "        "
   ]
  },
  {
   "cell_type": "code",
   "execution_count": 13,
   "metadata": {},
   "outputs": [],
   "source": [
    "class LinkedList():\n",
    "    \n",
    "    def __init__(self):\n",
    "        self.head = None\n",
    "        \n",
    "    def sortedInsert(self, value):\n",
    "        new_node = Node(value)\n",
    "        \n",
    "        if self.head:\n",
    "            \n",
    "            if self.head.value > new_node.value:\n",
    "                new_node.next = self.head\n",
    "                self.head = new_node\n",
    "                \n",
    "            else:\n",
    "                \n",
    "                curr = self.head\n",
    "                while (curr.next and curr.next.value < new_node.value):\n",
    "                    curr = curr.next\n",
    "                    \n",
    "                new_node.next = curr.next\n",
    "                curr.next = new_node\n",
    "            \n",
    "        else:\n",
    "            self.head = new_node\n",
    "    \n",
    "    def add(self, value):\n",
    "        new_node = Node(value)\n",
    "        \n",
    "        if self.head:\n",
    "            curr_node = self.head\n",
    "        \n",
    "            while curr_node.next:\n",
    "                curr_node = curr_node.next\n",
    "            \n",
    "            curr_node.next = Node(value)\n",
    "        else:\n",
    "            self.head = new_node\n",
    "            \n",
    "    def push(self, value):\n",
    "        new_node = Node(value)\n",
    "        new_node.next = self.head\n",
    "        self.head = new_node\n",
    "        \n",
    "    def printList(self):\n",
    "        \n",
    "        curr_node = self.head\n",
    "        \n",
    "        while curr_node:\n",
    "            print(curr_node.value)\n",
    "            curr_node = curr_node.next\n",
    "            "
   ]
  },
  {
   "cell_type": "code",
   "execution_count": 14,
   "metadata": {},
   "outputs": [],
   "source": [
    "def reverse(linked_list):\n",
    "    \n",
    "    # Set up current,previous, and next nodes\n",
    "    current = linked_list.head\n",
    "    prev_node = None\n",
    "    next_node = None\n",
    "\n",
    "    # until we have gone through to the end of the list\n",
    "    while current:\n",
    "\n",
    "        # Make sure to copy the current nodes next node to a variable next_node\n",
    "        # Before overwriting as the previous node for reversal\n",
    "        next_node = current.next\n",
    "\n",
    "        # Reverse the pointer ot the next_node\n",
    "        current.next = prev_node\n",
    "\n",
    "        # Go one forward in the list\n",
    "        prev_node = current\n",
    "        current = next_node\n",
    "\n",
    "    linked_list.head = prev_node"
   ]
  },
  {
   "cell_type": "code",
   "execution_count": 15,
   "metadata": {},
   "outputs": [],
   "source": [
    "link_list = LinkedList()\n",
    "\n",
    "link_list.sortedInsert(4)\n",
    "link_list.sortedInsert(2)\n",
    "link_list.sortedInsert(3)\n",
    "link_list.sortedInsert(1)"
   ]
  },
  {
   "cell_type": "code",
   "execution_count": 16,
   "metadata": {},
   "outputs": [
    {
     "name": "stdout",
     "output_type": "stream",
     "text": [
      "1\n",
      "2\n",
      "3\n",
      "4\n"
     ]
    }
   ],
   "source": [
    "link_list.printList()"
   ]
  },
  {
   "cell_type": "code",
   "execution_count": 17,
   "metadata": {},
   "outputs": [],
   "source": [
    "reverse(link_list)"
   ]
  },
  {
   "cell_type": "code",
   "execution_count": 18,
   "metadata": {},
   "outputs": [
    {
     "name": "stdout",
     "output_type": "stream",
     "text": [
      "4\n",
      "3\n",
      "2\n",
      "1\n"
     ]
    }
   ],
   "source": [
    "link_list.printList()"
   ]
  },
  {
   "cell_type": "code",
   "execution_count": null,
   "metadata": {},
   "outputs": [],
   "source": []
  }
 ],
 "metadata": {
  "kernelspec": {
   "display_name": "Python 3",
   "language": "python",
   "name": "python3"
  },
  "language_info": {
   "codemirror_mode": {
    "name": "ipython",
    "version": 3
   },
   "file_extension": ".py",
   "mimetype": "text/x-python",
   "name": "python",
   "nbconvert_exporter": "python",
   "pygments_lexer": "ipython3",
   "version": "3.7.3"
  }
 },
 "nbformat": 4,
 "nbformat_minor": 2
}
