{
 "cells": [
  {
   "cell_type": "markdown",
   "metadata": {},
   "source": [
    "## Is Palindrome\n",
    "\n",
    "Determine whether an integer is a palindrome. An integer is a palindrome when it reads the same backward as forward.\n",
    "\n",
    "Negative numbers will automatically not be palindromes because of the negative sign.\n",
    "\n",
    "Try to solve without converting the number to a string"
   ]
  },
  {
   "cell_type": "code",
   "execution_count": 1,
   "metadata": {},
   "outputs": [],
   "source": [
    "def isPalindrome(x):\n",
    "    \"\"\"\n",
    "    :type x: int\n",
    "    :rtype: bool\n",
    "    \"\"\"\n",
    "\n",
    "    if x < 0:\n",
    "        return False\n",
    "\n",
    "    f = x\n",
    "    f_digits = []            \n",
    "\n",
    "    while f > 0:\n",
    "\n",
    "        f_digits.append(f % 10)\n",
    "\n",
    "        f = f // 10\n",
    "\n",
    "    r = x\n",
    "    r_digits = []            \n",
    "\n",
    "    while r > 0:\n",
    "\n",
    "        r_digits.append(r % 10)\n",
    "\n",
    "        r = r // 10\n",
    "\n",
    "    r_digits.reverse()\n",
    "\n",
    "    print(f_digits)\n",
    "    print(r_digits)\n",
    "\n",
    "    return f_digits == r_digits\n"
   ]
  },
  {
   "cell_type": "code",
   "execution_count": 2,
   "metadata": {},
   "outputs": [
    {
     "name": "stdout",
     "output_type": "stream",
     "text": [
      "[1, 2, 3, 3, 2, 1]\n",
      "[1, 2, 3, 3, 2, 1]\n"
     ]
    },
    {
     "data": {
      "text/plain": [
       "True"
      ]
     },
     "execution_count": 2,
     "metadata": {},
     "output_type": "execute_result"
    }
   ],
   "source": [
    "isPalindrome(123321)"
   ]
  },
  {
   "cell_type": "code",
   "execution_count": 3,
   "metadata": {},
   "outputs": [
    {
     "name": "stdout",
     "output_type": "stream",
     "text": [
      "[1, 2, 3, 2, 1]\n",
      "[1, 2, 3, 2, 1]\n"
     ]
    },
    {
     "data": {
      "text/plain": [
       "True"
      ]
     },
     "execution_count": 3,
     "metadata": {},
     "output_type": "execute_result"
    }
   ],
   "source": [
    "isPalindrome(12321)"
   ]
  },
  {
   "cell_type": "code",
   "execution_count": 4,
   "metadata": {},
   "outputs": [
    {
     "name": "stdout",
     "output_type": "stream",
     "text": [
      "[0, 1, 0, 0, 0, 1]\n",
      "[1, 0, 0, 0, 1, 0]\n"
     ]
    },
    {
     "data": {
      "text/plain": [
       "False"
      ]
     },
     "execution_count": 4,
     "metadata": {},
     "output_type": "execute_result"
    }
   ],
   "source": [
    "isPalindrome(100010)"
   ]
  },
  {
   "cell_type": "code",
   "execution_count": 43,
   "metadata": {},
   "outputs": [],
   "source": [
    "def isPalin(x):\n",
    "    \n",
    "    if x < 0:\n",
    "        return False\n",
    "    \n",
    "    digits = []\n",
    "    \n",
    "    f = x\n",
    "    \n",
    "    while f > 0:\n",
    "        \n",
    "        rem = f % 10\n",
    "        digits.append(str(rem))\n",
    "        \n",
    "        f = f // 10\n",
    "        \n",
    "    return ''.join(digits) == ''.join(list(reversed(digits)))\n",
    "    "
   ]
  },
  {
   "cell_type": "code",
   "execution_count": 47,
   "metadata": {},
   "outputs": [
    {
     "data": {
      "text/plain": [
       "True"
      ]
     },
     "execution_count": 47,
     "metadata": {},
     "output_type": "execute_result"
    }
   ],
   "source": [
    "isPalin(12322321)"
   ]
  },
  {
   "cell_type": "code",
   "execution_count": 1,
   "metadata": {},
   "outputs": [],
   "source": [
    "def getDigits(x):\n",
    "    \n",
    "    if len(str(x)) == 1:\n",
    "        return [x]\n",
    "    \n",
    "    return getDigits(x // 10) + [(x % 10)]\n",
    "    \n",
    "def isPalin(x):\n",
    "    \n",
    "    if x < 0:\n",
    "        return False\n",
    "    \n",
    "    # get the digits of the  number\n",
    "    digits = getDigits(x)\n",
    "    \n",
    "    l = 0\n",
    "    r = len(digits) - 1\n",
    "    \n",
    "    while l < r:\n",
    "        \n",
    "        if digits[l] == digits[r]:\n",
    "            l += 1\n",
    "            r -= 1\n",
    "        else:\n",
    "            return False\n",
    "        \n",
    "    return True\n",
    "        \n",
    "        "
   ]
  },
  {
   "cell_type": "code",
   "execution_count": 6,
   "metadata": {},
   "outputs": [
    {
     "data": {
      "text/plain": [
       "True"
      ]
     },
     "execution_count": 6,
     "metadata": {},
     "output_type": "execute_result"
    }
   ],
   "source": [
    "isPalin(12344321)"
   ]
  },
  {
   "cell_type": "code",
   "execution_count": null,
   "metadata": {},
   "outputs": [],
   "source": []
  }
 ],
 "metadata": {
  "kernelspec": {
   "display_name": "Python 3",
   "language": "python",
   "name": "python3"
  },
  "language_info": {
   "codemirror_mode": {
    "name": "ipython",
    "version": 3
   },
   "file_extension": ".py",
   "mimetype": "text/x-python",
   "name": "python",
   "nbconvert_exporter": "python",
   "pygments_lexer": "ipython3",
   "version": "3.7.3"
  }
 },
 "nbformat": 4,
 "nbformat_minor": 2
}
