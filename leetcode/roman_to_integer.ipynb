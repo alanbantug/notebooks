{
 "cells": [
  {
   "cell_type": "markdown",
   "metadata": {},
   "source": [
    "## Roman to Integer\n",
    "\n",
    "Roman numerals are usually written largest to smallest from left to right. However, the numeral for four is not IIII. Instead, the number four is written as IV. Because the one is before the five we subtract it making four. The same principle applies to the number nine, which is written as IX. There are six instances where subtraction is used:\n",
    "\n",
    "I can be placed before V (5) and X (10) to make 4 and 9.    \n",
    "X can be placed before L (50) and C (100) to make 40 and 90.    \n",
    "C can be placed before D (500) and M (1000) to make 400 and 900.   \n",
    "\n",
    "Given a roman numeral, convert it to an integer. Input is guaranteed to be within the range from 1 to 3999."
   ]
  },
  {
   "cell_type": "code",
   "execution_count": 1,
   "metadata": {},
   "outputs": [],
   "source": [
    "def romanToInt(s):\n",
    "    \"\"\"\n",
    "    :type s: str\n",
    "    :rtype: int\n",
    "    \"\"\"\n",
    "\n",
    "    roman_dict = {'I': 1,  \n",
    "                  'IV': 4,\n",
    "                  'V': 5,\n",
    "                  'IX': 9,\n",
    "                  'X': 10,\n",
    "                  'XL': 40,\n",
    "                  'L': 50,\n",
    "                  'XC': 90,\n",
    "                  'C': 100,\n",
    "                  'CD': 400,\n",
    "                  'D': 500,\n",
    "                  'CM': 900,\n",
    "                  'M': 1000}\n",
    "\n",
    "    if len(s) == 1:\n",
    "        return roman_dict[s]\n",
    "\n",
    "    int_value = 0\n",
    "\n",
    "    start = 0\n",
    "\n",
    "    while start < len(s):\n",
    "\n",
    "        if s[start:start+2] in roman_dict.keys():\n",
    "            int_value +=  roman_dict[s[start:start+2]]\n",
    "            start += 2\n",
    "        else:\n",
    "            int_value += roman_dict[s[start]]\n",
    "            start += 1\n",
    "            \n",
    "    return int_value"
   ]
  },
  {
   "cell_type": "code",
   "execution_count": 2,
   "metadata": {},
   "outputs": [
    {
     "data": {
      "text/plain": [
       "34"
      ]
     },
     "execution_count": 2,
     "metadata": {},
     "output_type": "execute_result"
    }
   ],
   "source": [
    "romanToInt('XXXIV')"
   ]
  },
  {
   "cell_type": "code",
   "execution_count": null,
   "metadata": {},
   "outputs": [],
   "source": []
  }
 ],
 "metadata": {
  "kernelspec": {
   "display_name": "Python 3",
   "language": "python",
   "name": "python3"
  },
  "language_info": {
   "codemirror_mode": {
    "name": "ipython",
    "version": 3
   },
   "file_extension": ".py",
   "mimetype": "text/x-python",
   "name": "python",
   "nbconvert_exporter": "python",
   "pygments_lexer": "ipython3",
   "version": "3.7.3"
  }
 },
 "nbformat": 4,
 "nbformat_minor": 2
}
