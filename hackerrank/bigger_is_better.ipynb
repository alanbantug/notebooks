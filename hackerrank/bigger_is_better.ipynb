{
 "cells": [
  {
   "cell_type": "markdown",
   "metadata": {},
   "source": [
    "### Bigger is Better\n",
    "\n",
    "Lexicographical order is often known as alphabetical order when dealing with strings. A string is greater than another string if it comes later in a lexicographically sorted list.\n",
    "\n",
    "Given a word, create a new word by swapping some or all of its characters. This new word must meet two criteria:\n",
    "\n",
    "- It must be greater than the original word\n",
    "- It must be the smallest word that meets the first condition\n",
    "\n",
    "Complete the function biggerIsGreater below to create and return the new string meeting the criteria. If it is not possible, return no answer.\n",
    "\n",
    "#### Solution\n",
    "\n",
    "The solution to this problem may be to get all permutations of the string, sorting the string, and then getting the string that is next to the original string. To get the permutation of the string, we can use a recursive function that is part of the lessons for Python Algorithms. \n",
    "\n",
    "    dkhc -> hcdk\n",
    "\n"
   ]
  },
  {
   "cell_type": "code",
   "execution_count": 3,
   "metadata": {},
   "outputs": [],
   "source": [
    "#\n",
    "def biggerIsBetter(s):\n",
    "    \n",
    "    \n",
    "    def permutate(s):\n",
    "    \n",
    "        out = []\n",
    "\n",
    "        if len(s) == 1:\n",
    "            out = [s]\n",
    "\n",
    "        else:\n",
    "            for i, let in enumerate(s):\n",
    "\n",
    "                for perm in permutate(s[:i] + s[i+1:]):\n",
    "\n",
    "                    out += [let + perm]\n",
    "        return out \n",
    "\n",
    "    perms = permutate(s)\n",
    "    \n",
    "    p_select = sorted([perm for perm in perms if perm > s])\n",
    "    \n",
    "    return p_select[0]\n",
    "    \n"
   ]
  },
  {
   "cell_type": "code",
   "execution_count": 4,
   "metadata": {},
   "outputs": [
    {
     "data": {
      "text/plain": [
       "'hcdk'"
      ]
     },
     "execution_count": 4,
     "metadata": {},
     "output_type": "execute_result"
    }
   ],
   "source": [
    "s = 'dkhc'\n",
    "biggerIsBetter(s)"
   ]
  },
  {
   "cell_type": "markdown",
   "metadata": {},
   "source": [
    "### Alternative solution\n",
    "\n",
    "Instead of iterating thru all possible combinations, we can first create different lists of characters greater that the letter in a specific position. For example, k and h are greater than d, and so on.\n",
    "\n",
    "Is this a case of dynamic programming? We'll see."
   ]
  },
  {
   "cell_type": "code",
   "execution_count": 5,
   "metadata": {},
   "outputs": [],
   "source": [
    "chars = [c for c in s]"
   ]
  },
  {
   "cell_type": "code",
   "execution_count": null,
   "metadata": {},
   "outputs": [],
   "source": []
  }
 ],
 "metadata": {
  "kernelspec": {
   "display_name": "Python 3",
   "language": "python",
   "name": "python3"
  },
  "language_info": {
   "codemirror_mode": {
    "name": "ipython",
    "version": 3
   },
   "file_extension": ".py",
   "mimetype": "text/x-python",
   "name": "python",
   "nbconvert_exporter": "python",
   "pygments_lexer": "ipython3",
   "version": "3.7.3"
  }
 },
 "nbformat": 4,
 "nbformat_minor": 2
}
