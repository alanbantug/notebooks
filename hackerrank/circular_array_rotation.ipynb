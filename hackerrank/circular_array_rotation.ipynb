{
 "cells": [
  {
   "cell_type": "markdown",
   "metadata": {},
   "source": [
    "## Circular Array Rotation...terminating due to timeout\n",
    "\n",
    "John Watson knows of an operation called a right circular rotation on an array of integers. One rotation operation moves the last array element to the first position and shifts all remaining elements right one. To test Sherlock's abilities, Watson provides Sherlock with an array of integers. Sherlock is to perform the rotation operation a number of times then determine the value of the element at a given position.\n",
    "\n",
    "For each array, perform a number of right circular rotations and return the value of the element at a given index.\n",
    "\n",
    "**Note:** The function below works, but is timing out. Upon investigation, it seems the TCs where it timed out have large amounts of input, thus the timeout. The code will then need to be optimized.\n",
    "\n",
    "An alternative solution is to simply iterate thru the list and repositioning the items as follows:\n",
    "\n",
    "- Save the last item to a temporary variable\n",
    "- Set idx = length of list\n",
    "- Set offset = 1\n",
    "- Move item on idx - offset to idx\n",
    "- Subtract 1 from idx\n",
    "- Repeat until idx = 0\n",
    "- Move item to position 0\n"
   ]
  },
  {
   "cell_type": "code",
   "execution_count": 1,
   "metadata": {},
   "outputs": [],
   "source": [
    "def circularArrayRotation(a, n, m):\n",
    "    \n",
    "    # n = number of circular rotations\n",
    "    # m = indices\n",
    "    \n",
    "    for i in range(n):\n",
    "        \n",
    "        last_ele = a.pop()\n",
    "\n",
    "        a.insert(0, last_ele)\n",
    "\n",
    "    print(a)\n",
    "    \n",
    "    return_ele = [e for idx, e in enumerate(a) if idx in m]\n",
    "    \n",
    "    return return_ele\n"
   ]
  },
  {
   "cell_type": "code",
   "execution_count": 2,
   "metadata": {},
   "outputs": [
    {
     "name": "stdout",
     "output_type": "stream",
     "text": [
      "[6, 7, 1, 4, 3, 2, 5]\n"
     ]
    },
    {
     "data": {
      "text/plain": [
       "[6, 7, 1]"
      ]
     },
     "execution_count": 2,
     "metadata": {},
     "output_type": "execute_result"
    }
   ],
   "source": [
    "a = [1, 4, 3, 2, 5, 6, 7]\n",
    "m = [0, 1, 2]\n",
    "circularArrayRotation(a, 2, m)"
   ]
  },
  {
   "cell_type": "code",
   "execution_count": 6,
   "metadata": {},
   "outputs": [],
   "source": [
    "def cirArrayRotation(a, n, m):\n",
    "    \n",
    "    temp_a = []\n",
    "    \n",
    "    for i in range(n):\n",
    "        temp_a.insert(0, a.pop())\n",
    "    \n",
    "    a = temp_a + a\n",
    "    \n",
    "    return [e for idx, e in enumerate(a) if idx in m]\n",
    "    "
   ]
  },
  {
   "cell_type": "code",
   "execution_count": 7,
   "metadata": {},
   "outputs": [
    {
     "data": {
      "text/plain": [
       "[6, 7, 1]"
      ]
     },
     "execution_count": 7,
     "metadata": {},
     "output_type": "execute_result"
    }
   ],
   "source": [
    "a = [1, 4, 3, 2, 5, 6, 7]\n",
    "m = [0, 1, 2]\n",
    "cirArrayRotation(a, 2, m)"
   ]
  },
  {
   "cell_type": "code",
   "execution_count": null,
   "metadata": {},
   "outputs": [],
   "source": []
  }
 ],
 "metadata": {
  "kernelspec": {
   "display_name": "Python 3",
   "language": "python",
   "name": "python3"
  },
  "language_info": {
   "codemirror_mode": {
    "name": "ipython",
    "version": 3
   },
   "file_extension": ".py",
   "mimetype": "text/x-python",
   "name": "python",
   "nbconvert_exporter": "python",
   "pygments_lexer": "ipython3",
   "version": "3.7.3"
  }
 },
 "nbformat": 4,
 "nbformat_minor": 2
}
