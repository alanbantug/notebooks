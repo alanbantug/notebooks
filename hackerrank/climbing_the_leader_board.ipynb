{
 "cells": [
  {
   "cell_type": "markdown",
   "metadata": {},
   "source": [
    "### Climbing the Leaderboard...works but times out\n",
    "\n",
    "Alice is playing an arcade game and wants to climb to the top of the leaderboard. Can you help her track her ranking as she beats each level? The game uses Dense Ranking, so its leaderboard works like this:\n",
    "\n",
    "- The player with the highest score is ranked number _**1**_  on the leaderboard.\n",
    "\n",
    "- Players who have equal scores receive the same ranking number, and the next player(s) receive the immediately following ranking number. For example, four players have the scores 100, 90, 90, and 80. Those players will have ranks 1, 2, 2, and 3, respectively.\n",
    "\n",
    "When Alice starts playing, there are already **_n_** people on the leaderboard. The score of each player **_i_** is denoted by **_si_**. Alice plays for **_m_** levels, and we denote her total score after passing each level **_j_** as **_alicej_**. After completing each level, Alice wants to know her current rank.\n",
    "\n",
    "You are given an array, **_score_**, of monotonically decreasing leaderboard scores, and another array, **_alice_**, of Alice's cumulative scores for each level of the game. You must print **_m_** integers. The **_jth_** integer should indicate the current rank of alice after passing the **_jth_** level."
   ]
  },
  {
   "cell_type": "code",
   "execution_count": 5,
   "metadata": {},
   "outputs": [],
   "source": [
    "def climbingleaderboard(scores, alice):\n",
    "    \n",
    "    # initialize list for alice's ranking\n",
    "    results = []    \n",
    "    \n",
    "    for a_score in alice:\n",
    "        \n",
    "        # add the score to the list\n",
    "        scores.append(a_score)\n",
    "        \n",
    "        # place the score into a set for ranking\n",
    "        score_set = sorted(set(scores), reverse=True)\n",
    "\n",
    "        score_list = list(score_set)\n",
    "        \n",
    "        results.append(score_list.index(a_score) + 1)\n",
    "                \n",
    "    return results\n"
   ]
  },
  {
   "cell_type": "code",
   "execution_count": 6,
   "metadata": {},
   "outputs": [
    {
     "data": {
      "text/plain": [
       "[6, 4, 2, 1]"
      ]
     },
     "execution_count": 6,
     "metadata": {},
     "output_type": "execute_result"
    }
   ],
   "source": [
    "scores = [100, 100, 50, 40, 40, 20, 10]\n",
    "alice = [5, 25, 50, 120]\n",
    "\n",
    "climbingleaderboard(scores, alice)"
   ]
  },
  {
   "cell_type": "markdown",
   "metadata": {},
   "source": [
    "Added a line for change testing"
   ]
  },
  {
   "cell_type": "code",
   "execution_count": null,
   "metadata": {},
   "outputs": [],
   "source": []
  }
 ],
 "metadata": {
  "kernelspec": {
   "display_name": "Python 3",
   "language": "python",
   "name": "python3"
  },
  "language_info": {
   "codemirror_mode": {
    "name": "ipython",
    "version": 3
   },
   "file_extension": ".py",
   "mimetype": "text/x-python",
   "name": "python",
   "nbconvert_exporter": "python",
   "pygments_lexer": "ipython3",
   "version": "3.7.3"
  }
 },
 "nbformat": 4,
 "nbformat_minor": 2
}
