{
 "cells": [
  {
   "cell_type": "markdown",
   "metadata": {},
   "source": [
    "## Append and Delete\n",
    "\n",
    "You have a string, **_s_**, of lowercase English alphabetic letters. You can perform two types of operations on **_s_**:\n",
    "\n",
    "- Append a lowercase English alphabetic letter to the end of the string.\n",
    "- Delete the last character in the string. Performing this operation on an empty string results in an empty string.\n",
    "\n",
    "Given an integer, **_k_**, and two strings, **_s_** and **_t_**, determine whether or not you can convert **_s_** to **_t_** by performing exactly **_k_** of the above operations on **_s_**. If it's possible, print Yes; otherwise, print No."
   ]
  },
  {
   "cell_type": "code",
   "execution_count": 1,
   "metadata": {},
   "outputs": [],
   "source": [
    "def appendAndDelete(s, t, k):\n",
    "    \n",
    "    sim_count = 0\n",
    "    \n",
    "    s_len = len(s)\n",
    "    t_len = len(t)\n",
    "    \n",
    "    for i in range(s_len):\n",
    "        if s[:i+1] == t[:i+1]:\n",
    "            sim_count += 1\n",
    "        else:\n",
    "            break\n",
    "            \n",
    "    if (s_len - sim_count) + (t_len - sim_count) == k:\n",
    "        print('Yes')\n",
    "    else:\n",
    "        print('No')\n"
   ]
  },
  {
   "cell_type": "code",
   "execution_count": 2,
   "metadata": {},
   "outputs": [
    {
     "name": "stdout",
     "output_type": "stream",
     "text": [
      "Yes\n"
     ]
    }
   ],
   "source": [
    "s = 'hackerhappy'\n",
    "t = 'hackerrank'\n",
    "k = 9\n",
    "appendAndDelete(s, t, k)"
   ]
  },
  {
   "cell_type": "code",
   "execution_count": 3,
   "metadata": {},
   "outputs": [
    {
     "name": "stdout",
     "output_type": "stream",
     "text": [
      "Yes\n"
     ]
    }
   ],
   "source": [
    "s = 'sjjhdy'\n",
    "t = 'sjjtaz'\n",
    "k = 6\n",
    "appendAndDelete(s, t, k)"
   ]
  },
  {
   "cell_type": "code",
   "execution_count": null,
   "metadata": {},
   "outputs": [],
   "source": []
  }
 ],
 "metadata": {
  "kernelspec": {
   "display_name": "Python 3",
   "language": "python",
   "name": "python3"
  },
  "language_info": {
   "codemirror_mode": {
    "name": "ipython",
    "version": 3
   },
   "file_extension": ".py",
   "mimetype": "text/x-python",
   "name": "python",
   "nbconvert_exporter": "python",
   "pygments_lexer": "ipython3",
   "version": "3.7.3"
  }
 },
 "nbformat": 4,
 "nbformat_minor": 2
}
